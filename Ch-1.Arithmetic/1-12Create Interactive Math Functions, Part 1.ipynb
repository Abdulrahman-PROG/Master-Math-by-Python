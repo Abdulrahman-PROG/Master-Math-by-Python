{
 "cells": [
  {
   "cell_type": "code",
   "execution_count": 13,
   "id": "0bc3cb24",
   "metadata": {},
   "outputs": [],
   "source": [
    "def myfunc(name):\n",
    "    print(f'hello {name}')"
   ]
  },
  {
   "cell_type": "code",
   "execution_count": 14,
   "id": "df3d45bb",
   "metadata": {},
   "outputs": [
    {
     "name": "stdout",
     "output_type": "stream",
     "text": [
      "hello boda\n"
     ]
    }
   ],
   "source": [
    "myfunc(\"boda\")"
   ]
  },
  {
   "cell_type": "code",
   "execution_count": 17,
   "id": "4c6d423c",
   "metadata": {},
   "outputs": [],
   "source": [
    "def computer_remainder(x,y):\n",
    "    divis = int(x /y)\n",
    "    remainder = x%y\n",
    "    print(f'{y} goes into {x} , {divis} times with a remainder of {remainder}')"
   ]
  },
  {
   "cell_type": "code",
   "execution_count": 18,
   "id": "fb50249e",
   "metadata": {},
   "outputs": [
    {
     "name": "stdout",
     "output_type": "stream",
     "text": [
      "3 goes into 10 , 3 times with a remainder of 1\n"
     ]
    }
   ],
   "source": [
    "computer_remainder(10,3)"
   ]
  },
  {
   "cell_type": "code",
   "execution_count": 23,
   "id": "eabe1ad9",
   "metadata": {},
   "outputs": [],
   "source": [
    "def divisionWithInput():\n",
    "    x = int(input('Input the numerator '))\n",
    "    y = int(input('Input the Denominator '))\n",
    "    divis = int(x /y)\n",
    "    remainder = x%y\n",
    "    print(f'{y} goes into {x} , {divis} times with a remainder of {remainder}')"
   ]
  },
  {
   "cell_type": "code",
   "execution_count": 25,
   "id": "8220f1f1",
   "metadata": {},
   "outputs": [
    {
     "name": "stdout",
     "output_type": "stream",
     "text": [
      "Input the numerator 10\n",
      "Input the Denominator 3\n",
      "3 goes into 10 , 3 times with a remainder of 1\n"
     ]
    }
   ],
   "source": [
    "divisionWithInput()"
   ]
  }
 ],
 "metadata": {
  "kernelspec": {
   "display_name": "Python 3 (ipykernel)",
   "language": "python",
   "name": "python3"
  },
  "language_info": {
   "codemirror_mode": {
    "name": "ipython",
    "version": 3
   },
   "file_extension": ".py",
   "mimetype": "text/x-python",
   "name": "python",
   "nbconvert_exporter": "python",
   "pygments_lexer": "ipython3",
   "version": "3.11.5"
  }
 },
 "nbformat": 4,
 "nbformat_minor": 5
}
